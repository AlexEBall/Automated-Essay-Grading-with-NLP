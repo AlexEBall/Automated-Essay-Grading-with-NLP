{
 "cells": [
  {
   "cell_type": "code",
   "execution_count": 1,
   "metadata": {},
   "outputs": [],
   "source": [
    "import os\n",
    "from gensim.models import Phrases\n",
    "from gensim.models.word2vec import LineSentence\n",
    "from gensim.corpora import Dictionary, MmCorpus\n",
    "from gensim.models.ldamulticore import LdaMulticore\n",
    "\n",
    "# from utils.helpers import trigram_bow_generator, explore_topic\n",
    "\n",
    "import pyLDAvis\n",
    "import pyLDAvis.gensim\n",
    "import warnings\n",
    "import pickle\n",
    "\n",
    "intermediate_directory = os.path.join('../data/intermediate')\n",
    "trigram_essays_all_filepath = os.path.join(intermediate_directory, 'trigram_essays_all6.txt')\n",
    "trigram_dictionary_filepath = os.path.join(intermediate_directory, 'trigram_dict_all6.dict')"
   ]
  },
  {
   "cell_type": "code",
   "execution_count": 2,
   "metadata": {},
   "outputs": [],
   "source": [
    "# this is a bit time consuming - make the if statement True\n",
    "# if you want to learn the dictionary yourself.\n",
    "if 1 == 1:\n",
    "\n",
    "    trigram_essays = LineSentence(trigram_essays_all_filepath)\n",
    "\n",
    "    # learn the dictionary by iterating over all of the reviews\n",
    "    trigram_dictionary = Dictionary(trigram_essays)\n",
    "    \n",
    "    # filter tokens that are very rare or too common from\n",
    "    # the dictionary (filter_extremes) and reassign integer ids (compactify)\n",
    "    trigram_dictionary.filter_extremes(no_below=10, no_above=0.4)\n",
    "    trigram_dictionary.compactify()\n",
    "\n",
    "    trigram_dictionary.save(trigram_dictionary_filepath)\n",
    "    \n",
    "# load the finished dictionary from disk\n",
    "trigram_dictionary = Dictionary.load(trigram_dictionary_filepath)\n",
    "\n",
    "trigram_bow_filepath = os.path.join(intermediate_directory, 'trigram_bow_corpus_all6.mm')"
   ]
  },
  {
   "cell_type": "code",
   "execution_count": 3,
   "metadata": {},
   "outputs": [],
   "source": [
    "def trigram_bow_generator(filepath):\n",
    "    \"\"\"\n",
    "    generator function to read reviews from a file\n",
    "    and yield a bag-of-words representation\n",
    "    \"\"\"\n",
    "    \n",
    "    for essay in LineSentence(filepath):\n",
    "        yield trigram_dictionary.doc2bow(essay)\n",
    "\n",
    "# this is a bit time consuming - make the if statement True\n",
    "# if you want to build the bag-of-words corpus yourself.\n",
    "if 1 == 1:\n",
    "\n",
    "    # generate bag-of-words representations for\n",
    "    # all reviews and save them as a matrix\n",
    "    MmCorpus.serialize(trigram_bow_filepath, trigram_bow_generator(trigram_essays_all_filepath))\n",
    "    \n",
    "# load the finished bag-of-words corpus from disk\n",
    "trigram_bow_corpus = MmCorpus(trigram_bow_filepath)\n",
    "\n",
    "lda_model_filepath = os.path.join(intermediate_directory, 'lda_model_all6')"
   ]
  },
  {
   "cell_type": "code",
   "execution_count": 71,
   "metadata": {},
   "outputs": [],
   "source": [
    "# this is a bit time consuming - make the if statement True\n",
    "# if you want to train the LDA model yourself.\n",
    "if 1 == 1:\n",
    "\n",
    "    with warnings.catch_warnings():\n",
    "        warnings.simplefilter('ignore')\n",
    "        \n",
    "        # workers => sets the parallelism, and should be\n",
    "        # set to your number of physical cores minus one\n",
    "        lda = LdaMulticore(trigram_bow_corpus,\n",
    "                           num_topics=5,\n",
    "                           id2word=trigram_dictionary,\n",
    "                           workers=3,\n",
    "                           random_state=5)\n",
    "    \n",
    "    lda.save(lda_model_filepath)\n",
    "    \n",
    "    \n",
    "# load the finished LDA model from disk\n",
    "lda = LdaMulticore.load(lda_model_filepath)"
   ]
  },
  {
   "cell_type": "code",
   "execution_count": 72,
   "metadata": {},
   "outputs": [],
   "source": [
    "def explore_topic(topic_number, topn=10):\n",
    "    \"\"\"\n",
    "    accept a user-supplied topic number and\n",
    "    print out a formatted list of the top terms\n",
    "    \"\"\"\n",
    "\n",
    "    print('{:20} {}'.format('term', 'frequency') + '\\n')\n",
    "\n",
    "    for term, frequency in lda.show_topic(topic_number, topn=10):\n",
    "        print('{:20} {:.3f}'.format(term, round(frequency, 3)))"
   ]
  },
  {
   "cell_type": "code",
   "execution_count": 73,
   "metadata": {},
   "outputs": [
    {
     "name": "stdout",
     "output_type": "stream",
     "text": [
      "term                 frequency\n",
      "\n",
      "mooring_mast         0.022\n",
      "frame                0.019\n",
      "problem              0.013\n",
      "mast                 0.013\n",
      "moor                 0.011\n",
      "stress               0.010\n",
      "land                 0.010\n",
      "nature               0.010\n",
      "add_stress           0.010\n",
      "safety               0.009\n"
     ]
    }
   ],
   "source": [
    "explore_topic(topic_number=0)"
   ]
  },
  {
   "cell_type": "code",
   "execution_count": 23,
   "metadata": {},
   "outputs": [],
   "source": [
    "def words_in_a_topic(topic_number):\n",
    "    \"\"\"\n",
    "    accepts a user-suplied topic number and\n",
    "    prints out a list of words\n",
    "    \"\"\"\n",
    "    words = []\n",
    "    for term, frequency in lda.show_topic(topic_number):\n",
    "        words.append((term, frequency))\n",
    "    \n",
    "    return words"
   ]
  },
  {
   "cell_type": "code",
   "execution_count": 29,
   "metadata": {},
   "outputs": [],
   "source": [
    "topic1 = words_in_a_topic(0)"
   ]
  },
  {
   "cell_type": "code",
   "execution_count": 31,
   "metadata": {},
   "outputs": [
    {
     "data": {
      "text/plain": [
       "10"
      ]
     },
     "execution_count": 31,
     "metadata": {},
     "output_type": "execute_result"
    }
   ],
   "source": [
    "len(topic1)"
   ]
  },
  {
   "cell_type": "code",
   "execution_count": 74,
   "metadata": {},
   "outputs": [
    {
     "name": "stdout",
     "output_type": "stream",
     "text": [
      "Topic: 0 \n",
      "Words: 0.022*\"mooring_mast\" + 0.019*\"frame\" + 0.013*\"problem\" + 0.013*\"mast\" + 0.011*\"moor\" + 0.010*\"stress\" + 0.010*\"land\" + 0.010*\"nature\" + 0.010*\"add_stress\" + 0.009*\"safety\"\n",
      "\n",
      "\n",
      "Topic: 1 \n",
      "Words: 0.022*\"build\" + 0.015*\"problem\" + 0.015*\"mooring_mast\" + 0.014*\"Empire_State\" + 0.014*\"frame\" + 0.010*\"nature\" + 0.008*\"stress\" + 0.008*\"exist_law_airship_fly\" + 0.008*\"idea\" + 0.008*\"mast\"\n",
      "\n",
      "\n",
      "Topic: 2 \n",
      "Words: 0.027*\"problem\" + 0.020*\"mast\" + 0.018*\"mooring_mast\" + 0.014*\"frame\" + 0.012*\"blimp\" + 0.012*\"architect\" + 0.012*\"paragraph\" + 0.012*\"area\" + 0.011*\"great\" + 0.011*\"Empire_State\"\n",
      "\n",
      "\n",
      "Topic: 3 \n",
      "Words: 0.029*\"problem\" + 0.018*\"mooring_mast\" + 0.016*\"safety\" + 0.013*\"mast\" + 0.013*\"idea\" + 0.012*\"Empire_State\" + 0.012*\"current\" + 0.011*\"nature\" + 0.010*\"cause\" + 0.010*\"build\"\n",
      "\n",
      "\n",
      "Topic: 4 \n",
      "Words: 0.021*\"mooring_mast\" + 0.020*\"blimp\" + 0.017*\"nature\" + 0.015*\"mast\" + 0.013*\"law\" + 0.012*\"problem\" + 0.011*\"allow\" + 0.011*\"safety\" + 0.011*\"cause\" + 0.010*\"dangerous\"\n",
      "\n",
      "\n"
     ]
    }
   ],
   "source": [
    "\n",
    "'''\n",
    "For each topic, we will explore the words occuring in that topic and its relative weight\n",
    "'''\n",
    "for idx, topic in lda.print_topics(-1):\n",
    "    print(\"Topic: {} \\nWords: {}\".format(idx, topic ))\n",
    "    print(\"\\n\")"
   ]
  },
  {
   "cell_type": "code",
   "execution_count": null,
   "metadata": {},
   "outputs": [],
   "source": []
  }
 ],
 "metadata": {
  "kernelspec": {
   "display_name": "Python 3",
   "language": "python",
   "name": "python3"
  },
  "language_info": {
   "codemirror_mode": {
    "name": "ipython",
    "version": 3
   },
   "file_extension": ".py",
   "mimetype": "text/x-python",
   "name": "python",
   "nbconvert_exporter": "python",
   "pygments_lexer": "ipython3",
   "version": "3.6.3"
  }
 },
 "nbformat": 4,
 "nbformat_minor": 2
}
